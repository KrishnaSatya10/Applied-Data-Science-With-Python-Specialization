{
 "cells": [
  {
   "cell_type": "markdown",
   "metadata": {},
   "source": [
    "---\n",
    "\n",
    "_You are currently looking at **version 1.1** of this notebook. To download notebooks and datafiles, as well as get help on Jupyter notebooks in the Coursera platform, visit the [Jupyter Notebook FAQ](https://www.coursera.org/learn/python-data-analysis/resources/0dhYG) course resource._\n",
    "\n",
    "---"
   ]
  },
  {
   "cell_type": "code",
   "execution_count": 1,
   "metadata": {
    "collapsed": true
   },
   "outputs": [],
   "source": [
    "import pandas as pd\n",
    "import numpy as np\n",
    "from scipy.stats import ttest_ind"
   ]
  },
  {
   "cell_type": "markdown",
   "metadata": {},
   "source": [
    "# Assignment 4 - Hypothesis Testing\n",
    "This assignment requires more individual learning than previous assignments - you are encouraged to check out the [pandas documentation](http://pandas.pydata.org/pandas-docs/stable/) to find functions or methods you might not have used yet, or ask questions on [Stack Overflow](http://stackoverflow.com/) and tag them as pandas and python related. And of course, the discussion forums are open for interaction with your peers and the course staff.\n",
    "\n",
    "Definitions:\n",
    "* A _quarter_ is a specific three month period, Q1 is January through March, Q2 is April through June, Q3 is July through September, Q4 is October through December.\n",
    "* A _recession_ is defined as starting with two consecutive quarters of GDP decline, and ending with two consecutive quarters of GDP growth.\n",
    "* A _recession bottom_ is the quarter within a recession which had the lowest GDP.\n",
    "* A _university town_ is a city which has a high percentage of university students compared to the total population of the city.\n",
    "\n",
    "**Hypothesis**: University towns have their mean housing prices less effected by recessions. Run a t-test to compare the ratio of the mean price of houses in university towns the quarter before the recession starts compared to the recession bottom. (`price_ratio=quarter_before_recession/recession_bottom`)\n",
    "\n",
    "The following data files are available for this assignment:\n",
    "* From the [Zillow research data site](http://www.zillow.com/research/data/) there is housing data for the United States. In particular the datafile for [all homes at a city level](http://files.zillowstatic.com/research/public/City/City_Zhvi_AllHomes.csv), ```City_Zhvi_AllHomes.csv```, has median home sale prices at a fine grained level.\n",
    "* From the Wikipedia page on college towns is a list of [university towns in the United States](https://en.wikipedia.org/wiki/List_of_college_towns#College_towns_in_the_United_States) which has been copy and pasted into the file ```university_towns.txt```.\n",
    "* From Bureau of Economic Analysis, US Department of Commerce, the [GDP over time](http://www.bea.gov/national/index.htm#gdp) of the United States in current dollars (use the chained value in 2009 dollars), in quarterly intervals, in the file ```gdplev.xls```. For this assignment, only look at GDP data from the first quarter of 2000 onward.\n",
    "\n",
    "Each function in this assignment below is worth 10%, with the exception of ```run_ttest()```, which is worth 50%."
   ]
  },
  {
   "cell_type": "code",
   "execution_count": 2,
   "metadata": {
    "collapsed": true
   },
   "outputs": [],
   "source": [
    "# Use this dictionary to map state names to two letter acronyms\n",
    "states = {'OH': 'Ohio', 'KY': 'Kentucky', 'AS': 'American Samoa', 'NV': 'Nevada', 'WY': 'Wyoming', 'NA': 'National', 'AL': 'Alabama', 'MD': 'Maryland', 'AK': 'Alaska', 'UT': 'Utah', 'OR': 'Oregon', 'MT': 'Montana', 'IL': 'Illinois', 'TN': 'Tennessee', 'DC': 'District of Columbia', 'VT': 'Vermont', 'ID': 'Idaho', 'AR': 'Arkansas', 'ME': 'Maine', 'WA': 'Washington', 'HI': 'Hawaii', 'WI': 'Wisconsin', 'MI': 'Michigan', 'IN': 'Indiana', 'NJ': 'New Jersey', 'AZ': 'Arizona', 'GU': 'Guam', 'MS': 'Mississippi', 'PR': 'Puerto Rico', 'NC': 'North Carolina', 'TX': 'Texas', 'SD': 'South Dakota', 'MP': 'Northern Mariana Islands', 'IA': 'Iowa', 'MO': 'Missouri', 'CT': 'Connecticut', 'WV': 'West Virginia', 'SC': 'South Carolina', 'LA': 'Louisiana', 'KS': 'Kansas', 'NY': 'New York', 'NE': 'Nebraska', 'OK': 'Oklahoma', 'FL': 'Florida', 'CA': 'California', 'CO': 'Colorado', 'PA': 'Pennsylvania', 'DE': 'Delaware', 'NM': 'New Mexico', 'RI': 'Rhode Island', 'MN': 'Minnesota', 'VI': 'Virgin Islands', 'NH': 'New Hampshire', 'MA': 'Massachusetts', 'GA': 'Georgia', 'ND': 'North Dakota', 'VA': 'Virginia'}"
   ]
  },
  {
   "cell_type": "code",
   "execution_count": 3,
   "metadata": {
    "collapsed": true,
    "umich_part_id": "021",
    "umich_partlist_id": "004"
   },
   "outputs": [],
   "source": [
    "def get_list_of_university_towns():\n",
    "    import re\n",
    "    import pandas as pd\n",
    "    import numpy as np\n",
    "    #OPen file to read and copy one line at a time into df.\n",
    "    with open('university_towns.txt','r') as f:\n",
    "        university_towns_arr = []\n",
    "        for line in f:\n",
    "            if '[edit]' in line:\n",
    "                state = line\n",
    "            elif '(' in line:\n",
    "                town = line\n",
    "                university_towns_arr.append([state,town])\n",
    "            else:\n",
    "                town = line[:-1]\n",
    "                university_towns_arr.append([state,town])\n",
    "    university_towns_df = pd.DataFrame(data = university_towns_arr, columns = ['State','RegionName'])\n",
    "    #Removing unnecessary data from RegionName and State columns using regex matching and substitution\n",
    "    university_towns_df['RegionName'] = university_towns_df['RegionName'].apply(lambda x:re.sub('[\\s][\\(].*[\\\\n]','',x))\n",
    "    university_towns_df['State'] = university_towns_df['State'].apply(lambda x:re.sub('[\\[].*[\\\\n]','',x))\n",
    "    return university_towns_df"
   ]
  },
  {
   "cell_type": "code",
   "execution_count": 4,
   "metadata": {
    "collapsed": true
   },
   "outputs": [],
   "source": [
    "def get_recession_start():\n",
    "    '''Returns the year and quarter of the recession start time as a \n",
    "    string value in a format such as 2005q3'''\n",
    "    #Skip first seven rows. They are not required. \n",
    "    gdp_data_all = pd.read_excel('gdplev.xls',skiprows = 7)\n",
    "    #Renaming columns\n",
    "    gdp_data_all.columns = ['Annual','GDP in billions of current dollars','GDP in billions of chained 2009 dollars','Drop_1','Quarter','GDP_$Bn_To_Drop','GDP','Drop_2']\n",
    "    #Retaining required column based on problem definition\n",
    "    gdp_data_all = gdp_data_all.drop(['Annual','GDP in billions of current dollars','GDP in billions of chained 2009 dollars','Drop_1','GDP_$Bn_To_Drop','Drop_2'], axis =1)\n",
    "    #Only data after 2000 is required, others are not\n",
    "    gdp_data = gdp_data_all.loc[gdp_data_all['Quarter'] >= '2000q1'].reset_index(drop = True)\n",
    "    recession_qtr_list = []\n",
    "    #Identifying the start of recession. \n",
    "    for i in range(len(gdp_data)):\n",
    "        if (i < len(gdp_data)-2):\n",
    "            if ((gdp_data.loc[(i + 1),'GDP'] < gdp_data.loc[(i),'GDP']) & (gdp_data.loc[(i + 2),'GDP'] < gdp_data.loc[(i +1),'GDP'])):\n",
    "                recession_qtr_list.append(gdp_data.loc[(i + 1),'Quarter'])\n",
    "    return recession_qtr_list[0]"
   ]
  },
  {
   "cell_type": "code",
   "execution_count": 5,
   "metadata": {
    "collapsed": true,
    "umich_part_id": "023",
    "umich_partlist_id": "004"
   },
   "outputs": [],
   "source": [
    "def get_recession_end():\n",
    "    '''Returns the year and quarter of the recession end time as a \n",
    "    string value in a format such as 2005q3'''\n",
    "    gdp_data_all = pd.read_excel('gdplev.xls',skiprows = 7)\n",
    "    gdp_data_all.columns = ['Annual','GDP in billions of current dollars','GDP in billions of chained 2009 dollars','Drop_1','Quarter','GDP_$Bn_To_Drop','GDP','Drop_2']\n",
    "    gdp_data_all = gdp_data_all.drop(['Annual','GDP in billions of current dollars','GDP in billions of chained 2009 dollars','Drop_1','GDP_$Bn_To_Drop','Drop_2'], axis =1)\n",
    "    gdp_data = gdp_data_all.loc[gdp_data_all['Quarter'] >= '2000q1'].reset_index(drop = True)\n",
    "    qtr = get_recession_start()\n",
    "    recession_end = []\n",
    "    for i in range(gdp_data.loc[gdp_data['Quarter'] == qtr].index[0],len(gdp_data)):\n",
    "        if (i < len(gdp_data)-2):\n",
    "            if ((gdp_data.loc[(i + 1),'GDP'] > gdp_data.loc[(i),'GDP']) & (gdp_data.loc[(i + 2),'GDP'] > gdp_data.loc[(i +1),'GDP'])):\n",
    "                recession_end.append(gdp_data.loc[(i + 1),'Quarter'])\n",
    "    return recession_end[1]"
   ]
  },
  {
   "cell_type": "code",
   "execution_count": 6,
   "metadata": {
    "collapsed": true,
    "umich_part_id": "024",
    "umich_partlist_id": "004"
   },
   "outputs": [],
   "source": [
    "def get_recession_bottom():\n",
    "    '''Returns the year and quarter of the recession bottom time as a \n",
    "    string value in a format such as 2005q3'''\n",
    "    gdp_data_all = pd.read_excel('gdplev.xls',skiprows = 7)\n",
    "    gdp_data_all.columns = ['Annual','GDP in billions of current dollars','GDP in billions of chained 2009 dollars','Drop_1','Quarter','GDP_$Bn_To_Drop','GDP','Drop_2']\n",
    "    gdp_data_all = gdp_data_all.drop(['Annual','GDP in billions of current dollars','GDP in billions of chained 2009 dollars','Drop_1','GDP_$Bn_To_Drop','Drop_2'], axis =1)\n",
    "    gdp_data = gdp_data_all.loc[gdp_data_all['Quarter'] >= '2000q1'].reset_index(drop = True)\n",
    "    qtr = get_recession_start()\n",
    "    recession_bottom = []\n",
    "    for i in range(gdp_data.loc[gdp_data['Quarter'] == qtr].index[0],len(gdp_data)):\n",
    "        if (i < len(gdp_data)-2):\n",
    "            if ((gdp_data.loc[(i + 1),'GDP'] > gdp_data.loc[(i),'GDP']) & (gdp_data.loc[(i + 2),'GDP'] > gdp_data.loc[(i +1),'GDP'])):\n",
    "                recession_bottom.append(gdp_data.loc[(i),'Quarter'])\n",
    "    return recession_bottom[0]"
   ]
  },
  {
   "cell_type": "code",
   "execution_count": 7,
   "metadata": {
    "collapsed": true,
    "umich_part_id": "025",
    "umich_partlist_id": "004"
   },
   "outputs": [],
   "source": [
    "def convert_housing_data_to_quarters():\n",
    "    '''Converts the housing data to quarters and returns it as mean \n",
    "    values in a dataframe. This dataframe should be a dataframe with\n",
    "    columns for 2000q1 through 2016q3, and should have a multi-index\n",
    "    in the shape of [\"State\",\"RegionName\"].\n",
    "    \n",
    "    Note: Quarters are defined in the assignment description, they are\n",
    "    not arbitrary three month periods.\n",
    "    \n",
    "    The resulting dataframe should have 67 columns, and 10,730 rows.\n",
    "    '''\n",
    "    housing_data = pd.read_csv('City_Zhvi_AllHomes.csv')\n",
    "    #Retaining only required columns\n",
    "    housing_data_subset1 = housing_data.loc[:,'RegionName':'State']\n",
    "    housing_data_subset2 = housing_data.loc[:,'2000-01':]\n",
    "    housing_data_req_subset = pd.concat([housing_data_subset1,housing_data_subset2],axis = 1)\n",
    "    #Creatinf a qtr month dictionary\n",
    "    month_qtr_dic = {'01':'q1','02':'q1','03':'q1','04':'q2','05':'q2','06':'q2','07':'q3','08':'q3','09':'q3','10':'q4','11':'q4','12':'q4'}\n",
    "    col_names_arr = ['RegionName','State']\n",
    "    #Check last two values of every column name, which indicates the year. Map it to quarter from quarter month dict\n",
    "    for col_name in housing_data_req_subset.columns[2:]:\n",
    "        col_name = col_name.replace(col_name[-3:],month_qtr_dic[col_name[-2:]])\n",
    "        col_names_arr.append(col_name)\n",
    "    housing_data_req_subset.columns = col_names_arr\n",
    "    #Chaning state names from states dict\n",
    "    housing_data_req_subset['State'] = housing_data_req_subset['State'].apply(lambda x: states[x])\n",
    "    housing_data_req_subset.set_index(['State','RegionName'], drop = True, inplace = True)\n",
    "    #Vertical grouping can also take place, with axis = 1 to group by column names rather than row values\n",
    "    housing_data_grouped = housing_data_req_subset.groupby(housing_data_req_subset.columns,axis =1).mean()\n",
    "    return housing_data_grouped"
   ]
  },
  {
   "cell_type": "code",
   "execution_count": 8,
   "metadata": {
    "collapsed": true,
    "umich_part_id": "026",
    "umich_partlist_id": "004"
   },
   "outputs": [],
   "source": [
    "def run_ttest():\n",
    "    '''First creates new data showing the decline or growth of housing prices\n",
    "    between the recession start and the recession bottom. Then runs a ttest\n",
    "    comparing the university town values to the non-university towns values, \n",
    "    return whether the alternative hypothesis (that the two groups are the same)\n",
    "    is true or not as well as the p-value of the confidence. \n",
    "    \n",
    "    Return the tuple (different, p, better) where different=True if the t-test is\n",
    "    True at a p<0.01 (we reject the null hypothesis), or different=False if \n",
    "    otherwise (we cannot reject the null hypothesis). The variable p should\n",
    "    be equal to the exact p value returned from scipy.stats.ttest_ind(). The\n",
    "    value for better should be either \"university town\" or \"non-university town\"\n",
    "    depending on which has a lower mean price ratio (which is equivilent to a\n",
    "    reduced market loss).'''\n",
    "    university_towns = get_list_of_university_towns()\n",
    "    university_towns['Flag'] = 1\n",
    "    start_quarter = get_recession_start()\n",
    "    bottom_quarter = get_recession_bottom()\n",
    "    data_frame = convert_housing_data_to_quarters()\n",
    "    data_frame_req = data_frame.iloc[:,[data_frame.columns.get_loc(start_quarter)-1,data_frame.columns.get_loc(bottom_quarter)]]\n",
    "    #(price_ratio=recession_bottom/quarter_before_recession)\n",
    "    data_frame_req['Price_Ratio'] = data_frame_req[data_frame_req.columns[1]]/data_frame_req[data_frame_req.columns[0]]\n",
    "    data_frame_req = data_frame_req.reset_index()\n",
    "    final_df = pd.merge(data_frame_req, university_towns, left_on = ['State','RegionName'], right_on = ['State','RegionName'], how = 'left')\n",
    "    final_df['Flag'].fillna(0, inplace = True)\n",
    "    uni_df = final_df.loc[final_df['Flag'] == 1].drop(['State','RegionName','2008q2',bottom_quarter,'Flag'],axis = 1).dropna()\n",
    "    normal_df = final_df.loc[final_df['Flag'] == 0].drop(['State','RegionName','2008q2',bottom_quarter,'Flag'], axis = 1).dropna()\n",
    "    p_val = ttest_ind(uni_df.values,normal_df.values).pvalue[0]\n",
    "    if (p_val < 0.01):\n",
    "        different = True\n",
    "    else:\n",
    "        different = False\n",
    "    if uni_df.values.mean() > normal_df.values.mean():\n",
    "        better = \"university town\"\n",
    "    else:\n",
    "        better = \"non-university town\"\n",
    "    return (different,p_val,better)"
   ]
  }
 ],
 "metadata": {
  "coursera": {
   "course_slug": "python-data-analysis",
   "graded_item_id": "Il9Fx",
   "launcher_item_id": "TeDW0",
   "part_id": "WGlun"
  },
  "kernelspec": {
   "display_name": "Python 3",
   "language": "python",
   "name": "python3"
  },
  "language_info": {
   "codemirror_mode": {
    "name": "ipython",
    "version": 3
   },
   "file_extension": ".py",
   "mimetype": "text/x-python",
   "name": "python",
   "nbconvert_exporter": "python",
   "pygments_lexer": "ipython3",
   "version": "3.6.2"
  },
  "umich": {
   "id": "Assignment 4",
   "version": "1.1"
  }
 },
 "nbformat": 4,
 "nbformat_minor": 1
}
